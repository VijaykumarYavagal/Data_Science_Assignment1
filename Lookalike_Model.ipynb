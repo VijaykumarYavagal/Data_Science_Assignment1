{
 "cells": [
  {
   "cell_type": "code",
   "execution_count": null,
   "id": "4e900aff-68fc-4cb9-9fce-5916f314320f",
   "metadata": {},
   "outputs": [],
   "source": [
    "data = transactions.merge(customers, on=\"CustomerID\")"
   ]
  },
  {
   "cell_type": "code",
   "execution_count": null,
   "id": "8a723840-2ca7-4f63-8427-bf55a971bf30",
   "metadata": {},
   "outputs": [],
   "source": [
    "transactions = pd.read_csv(\"D:\\Data_Science_Assignment\\datasets\\Transactions.csv\") \n",
    "\n",
    "data = transactions.merge(customers, on=\"CustomerID\")"
   ]
  },
  {
   "cell_type": "code",
   "execution_count": null,
   "id": "00cf36c7-33ad-4bbe-88ef-5c3062197082",
   "metadata": {},
   "outputs": [],
   "source": [
    "import pandas as pd \n",
    "\n",
    "transactions = pd.read_csv(\"D:\\Data_Science_Assignment\\datasets\\Transactions.csv\")\n",
    "data = transactions.merge(customers, on=\"CustomerID\")"
   ]
  },
  {
   "cell_type": "code",
   "execution_count": null,
   "id": "def8de89-c243-477c-92c0-0c160c1fff91",
   "metadata": {},
   "outputs": [],
   "source": [
    "import pandas as pd\n",
    "\n",
    "customers = pd.read_csv(\"D:\\Data_Science_Assignment\\datasets\\Customers.csv\")  # Load the customers DataFrame first\n",
    "\n",
    "transactions = pd.read_csv(\"D:\\Data_Science_Assignment\\datasets\\Transactions.csv\")\n",
    "\n",
    "data = transactions.merge(customers, on=\"CustomerID\")"
   ]
  },
  {
   "cell_type": "code",
   "execution_count": null,
   "id": "ceb161ab-a849-40c5-bcad-f13bd30c8060",
   "metadata": {},
   "outputs": [],
   "source": [
    "from sklearn.metrics.pairwise import cosine_similarity\n",
    "\n",
    "customer_matrix = data.pivot_table(index=\"CustomerID\", columns=\"ProductID\", values=\"Amount\", fill_value=0)\n",
    "similarity = cosine_similarity(customer_matrix)"
   ]
  },
  {
   "cell_type": "code",
   "execution_count": null,
   "id": "48aa56bc-c271-499a-a428-5aec21dbbf3b",
   "metadata": {},
   "outputs": [],
   "source": [
    "pip install scikit-learn"
   ]
  },
  {
   "cell_type": "code",
   "execution_count": 2,
   "id": "69ebfa1a-50fe-475e-bf11-e488bd7ca33a",
   "metadata": {},
   "outputs": [],
   "source": [
    "import pandas as pd\n",
    "from sklearn.metrics.pairwise import cosine_similarity\n",
    "\n",
    "customers = pd.read_csv(\"D:\\Data_Science_Assignment\\datasets\\Customers.csv\")\n",
    "transactions = pd.read_csv(\"D:\\Data_Science_Assignment\\datasets\\Transactions.csv\")\n",
    "data = transactions.merge(customers, on=\"CustomerID\")\n",
    "\n",
    "customer_matrix = data.pivot_table(index=\"CustomerID\", columns=\"ProductID\", values=\"Price\", fill_value=0)\n",
    "similarity = cosine_similarity(customer_matrix)"
   ]
  },
  {
   "cell_type": "code",
   "execution_count": 4,
   "id": "41692b81-b293-4c7e-9d21-f98a64551d44",
   "metadata": {},
   "outputs": [],
   "source": [
    "import  numpy as np\n",
    "def get_similar_customers(customer_id, similarity_matrix):\n",
    "    customer_idx = list(customer_matrix.index).index(customer_id)\n",
    "    similar_customers = np.argsort(similarity_matrix[customer_idx])[::-1][1:4]\n",
    "    return [customer_matrix.index[i] for i in similar_customers]\n",
    "\n",
    "lookalike_results = {cid: get_similar_customers(cid, similarity) for cid in customer_matrix.index[:20]}"
   ]
  },
  {
   "cell_type": "code",
   "execution_count": 9,
   "id": "aa12f177-d961-43e9-bf85-4b4da64a526a",
   "metadata": {},
   "outputs": [],
   "source": [
    "import csv\n",
    "\n",
    "with open(\"D:\\Data_Science_Assignment\\outputs/Lookalike.csv\", \"w\", newline=\"\") as file:\n",
    "    writer = csv.writer(file)\n",
    "    writer.writerow([\"CustomerID\", \"SimilarCustomers\"])\n",
    "    for key, value in lookalike_results.items():\n",
    "        writer.writerow([key, \",\".join(value)])"
   ]
  },
  {
   "cell_type": "code",
   "execution_count": null,
   "id": "fe1fe57a-2ef1-4087-aab8-fff96b0fe0fe",
   "metadata": {},
   "outputs": [],
   "source": []
  }
 ],
 "metadata": {
  "kernelspec": {
   "display_name": "Python 3 (ipykernel)",
   "language": "python",
   "name": "python3"
  },
  "language_info": {
   "codemirror_mode": {
    "name": "ipython",
    "version": 3
   },
   "file_extension": ".py",
   "mimetype": "text/x-python",
   "name": "python",
   "nbconvert_exporter": "python",
   "pygments_lexer": "ipython3",
   "version": "3.11.2"
  }
 },
 "nbformat": 4,
 "nbformat_minor": 5
}
